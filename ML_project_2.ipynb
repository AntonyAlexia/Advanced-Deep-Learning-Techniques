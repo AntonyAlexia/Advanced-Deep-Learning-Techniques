{
  "cells": [
    {
      "cell_type": "markdown",
      "metadata": {
        "id": "IJ2pbEi8HjiP"
      },
      "source": [
        "## Part 1: Temperature forecasting using RNNs\n",
        "\n",
        "Following closely along Chapter 10 of [our textbook](https://learning.oreilly.com/library/view/deep-learning-with/9781617296864),  Part 1 uses a temperature-forecasting task as a example of using DL to process and make predictions on sequential data.\n",
        "\n",
        "Dataset: recorded at [the weather station at the Max Planck Institute for Biogeochemistry in Jena, Germany](https://www.bgc-jena.mpg.de/wetter/), it consists of 14 different quantities (such as temperature, pressure, humidity, wind direction, and so on)  recorded every 10 minutes over several years. The original data goes back to 2003, but the subset of the data we’ll download is limited to 2009–2016."
      ]
    },
    {
      "cell_type": "markdown",
      "metadata": {
        "id": "vPc4CuJc--cX"
      },
      "source": [
        "Useful sources and references for Part 1:\n",
        "\n",
        "https://colab.research.google.com/github/fchollet/deep-learning-with-python-notebooks/blob/master/chapter10_dl-for-timeseries.ipynb\n"
      ]
    },
    {
      "cell_type": "markdown",
      "metadata": {
        "id": "Gt7GMeCa_AvJ"
      },
      "source": [
        "### Acquiring and inspecting the data"
      ]
    },
    {
      "cell_type": "code",
      "execution_count": null,
      "metadata": {
        "colab": {
          "base_uri": "https://localhost:8080/"
        },
        "id": "Z_lwQzNMIba3",
        "outputId": "f41d5cb4-9f6b-40e8-d656-1ac1edc997cb"
      },
      "outputs": [
        {
          "output_type": "stream",
          "name": "stdout",
          "text": [
            "--2023-04-27 18:11:10--  https://s3.amazonaws.com/keras-datasets/jena_climate_2009_2016.csv.zip\n",
            "Resolving s3.amazonaws.com (s3.amazonaws.com)... 54.231.132.64, 52.216.100.101, 54.231.226.64, ...\n",
            "Connecting to s3.amazonaws.com (s3.amazonaws.com)|54.231.132.64|:443... connected.\n",
            "HTTP request sent, awaiting response... 200 OK\n",
            "Length: 13565642 (13M) [application/zip]\n",
            "Saving to: ‘jena_climate_2009_2016.csv.zip’\n",
            "\n",
            "jena_climate_2009_2 100%[===================>]  12.94M  5.41MB/s    in 2.4s    \n",
            "\n",
            "2023-04-27 18:11:13 (5.41 MB/s) - ‘jena_climate_2009_2016.csv.zip’ saved [13565642/13565642]\n",
            "\n",
            "Archive:  jena_climate_2009_2016.csv.zip\n",
            "  inflating: jena_climate_2009_2016.csv  \n",
            "  inflating: __MACOSX/._jena_climate_2009_2016.csv  \n"
          ]
        }
      ],
      "source": [
        "!wget https://s3.amazonaws.com/keras-datasets/jena_climate_2009_2016.csv.zip\n",
        "!unzip jena_climate_2009_2016.csv.zip"
      ]
    },
    {
      "cell_type": "markdown",
      "metadata": {
        "id": "3qW4ZeZlIiUm"
      },
      "source": [
        "**Inspecting the data**"
      ]
    },
    {
      "cell_type": "code",
      "execution_count": null,
      "metadata": {
        "colab": {
          "base_uri": "https://localhost:8080/"
        },
        "id": "2XEY7e4fIzEo",
        "outputId": "0936a82f-1914-45e5-d439-013c76638df4"
      },
      "outputs": [
        {
          "output_type": "stream",
          "name": "stdout",
          "text": [
            "['\"Date Time\"', '\"p (mbar)\"', '\"T (degC)\"', '\"Tpot (K)\"', '\"Tdew (degC)\"', '\"rh (%)\"', '\"VPmax (mbar)\"', '\"VPact (mbar)\"', '\"VPdef (mbar)\"', '\"sh (g/kg)\"', '\"H2OC (mmol/mol)\"', '\"rho (g/m**3)\"', '\"wv (m/s)\"', '\"max. wv (m/s)\"', '\"wd (deg)\"']\n",
            "420451\n"
          ]
        }
      ],
      "source": [
        "import os\n",
        "fname = os.path.join(\"jena_climate_2009_2016.csv\")\n",
        "\n",
        "with open(fname) as f:\n",
        "    data = f.read()\n",
        "\n",
        "lines = data.split(\"\\n\")\n",
        "header = lines[0].split(\",\")\n",
        "lines = lines[1:]\n",
        "print(header)\n",
        "print(len(lines))"
      ]
    },
    {
      "cell_type": "markdown",
      "metadata": {
        "id": "hSKeHVhUI4HY"
      },
      "source": [
        "**Parsing the data**"
      ]
    },
    {
      "cell_type": "code",
      "execution_count": null,
      "metadata": {
        "id": "UzgjFI8yI3Lp"
      },
      "outputs": [],
      "source": [
        "import numpy as np\n",
        "temperature = np.zeros((len(lines),))\n",
        "raw_data = np.zeros((len(lines), len(header) - 1))\n",
        "for i, line in enumerate(lines):\n",
        "    values = [float(x) for x in line.split(\",\")[1:]]\n",
        "    temperature[i] = values[1]\n",
        "    raw_data[i, :] = values[:]"
      ]
    },
    {
      "cell_type": "markdown",
      "metadata": {
        "id": "O5Vaiqy_IUpo"
      },
      "source": [
        "**Plotting the temperature timeseries**"
      ]
    },
    {
      "cell_type": "code",
      "execution_count": null,
      "metadata": {
        "colab": {
          "base_uri": "https://localhost:8080/",
          "height": 452
        },
        "id": "yM0qx_iyIUpp",
        "outputId": "41b38c27-4fdf-46c5-9edb-17bb3e145dbf"
      },
      "outputs": [
        {
          "output_type": "execute_result",
          "data": {
            "text/plain": [
              "[<matplotlib.lines.Line2D at 0x7f2e3b6879d0>]"
            ]
          },
          "metadata": {},
          "execution_count": 4
        },
        {
          "output_type": "display_data",
          "data": {
            "text/plain": [
              "<Figure size 640x480 with 1 Axes>"
            ],
            "image/png": "[encoded data removed]"
          },
          "metadata": {}
        }
      ],
      "source": [
        "from matplotlib import pyplot as plt\n",
        "plt.plot(range(len(temperature)), temperature)"
      ]
    },
    {
      "cell_type": "markdown",
      "metadata": {
        "id": "HHLdVMlgIUpp"
      },
      "source": [
        "**Plotting the first 10 days of the temperature timeseries**"
      ]
    },
    {
      "cell_type": "code",
      "execution_count": null,
      "metadata": {
        "colab": {
          "base_uri": "https://localhost:8080/",
          "height": 448
        },
        "id": "6OOjyhM3IUpp",
        "outputId": "b375a692-696c-409a-b659-e49ab685b260"
      },
      "outputs": [
        {
          "output_type": "execute_result",
          "data": {
            "text/plain": [
              "[<matplotlib.lines.Line2D at 0x7f2e10bfbc40>]"
            ]
          },
          "metadata": {},
          "execution_count": 5
        },
        {
          "output_type": "display_data",
          "data": {
            "text/plain": [
              "<Figure size 640x480 with 1 Axes>"
            ],
            "image/png": "[encoded data removed]"
          },
          "metadata": {}
        }
      ],
      "source": [
        "plt.plot(range(1440), temperature[:1440])"
      ]
    },
    {
      "cell_type": "markdown",
      "metadata": {
        "id": "aywlbPQmIUpq"
      },
      "source": [
        "**Computing the number of samples we'll use for each data split**"
      ]
    },
    {
      "cell_type": "code",
      "execution_count": null,
      "metadata": {
        "colab": {
          "base_uri": "https://localhost:8080/"
        },
        "id": "-0bshpxgIUpr",
        "outputId": "cc5fde2e-6b9a-40d4-c5a5-0da442e8ad91"
      },
      "outputs": [
        {
          "output_type": "stream",
          "name": "stdout",
          "text": [
            "num_train_samples: 210225\n",
            "num_val_samples: 105112\n",
            "num_test_samples: 105114\n"
          ]
        }
      ],
      "source": [
        "num_train_samples = int(0.5 * len(raw_data))\n",
        "num_val_samples = int(0.25 * len(raw_data))\n",
        "num_test_samples = len(raw_data) - num_train_samples - num_val_samples\n",
        "print(\"num_train_samples:\", num_train_samples)\n",
        "print(\"num_val_samples:\", num_val_samples)\n",
        "print(\"num_test_samples:\", num_test_samples)"
      ]
    },
    {
      "cell_type": "markdown",
      "metadata": {
        "id": "9TfuVCN1IUpt"
      },
      "source": [
        "### Preparing the data"
      ]
    },
    {
      "cell_type": "markdown",
      "metadata": {
        "id": "Dxl-1ciCIUpt"
      },
      "source": [
        "**Normalizing the data**"
      ]
    },
    {
      "cell_type": "code",
      "execution_count": null,
      "metadata": {
        "id": "bKpqgtYNIUpt"
      },
      "outputs": [],
      "source": [
        "mean = raw_data[:num_train_samples].mean(axis=0)\n",
        "raw_data -= mean\n",
        "std = raw_data[:num_train_samples].std(axis=0)\n",
        "raw_data /= std"
      ]
    },
    {
      "cell_type": "code",
      "execution_count": null,
      "metadata": {
        "colab": {
          "base_uri": "https://localhost:8080/"
        },
        "id": "zQjrig3HIUpu",
        "outputId": "f37cc203-0c83-412e-b2b5-1991cdb1a8b8"
      },
      "outputs": [
        {
          "output_type": "stream",
          "name": "stdout",
          "text": [
            "[0, 1, 2] 3\n",
            "[1, 2, 3] 4\n",
            "[2, 3, 4] 5\n",
            "[3, 4, 5] 6\n",
            "[4, 5, 6] 7\n"
          ]
        }
      ],
      "source": [
        "import numpy as np\n",
        "from tensorflow import keras\n",
        "int_sequence = np.arange(10)\n",
        "dummy_dataset = keras.utils.timeseries_dataset_from_array(\n",
        "    data=int_sequence[:-3],\n",
        "    targets=int_sequence[3:],\n",
        "    sequence_length=3,\n",
        "    batch_size=2,\n",
        ")\n",
        "\n",
        "for inputs, targets in dummy_dataset:\n",
        "    for i in range(inputs.shape[0]):\n",
        "        print([int(x) for x in inputs[i]], int(targets[i]))"
      ]
    },
    {
      "cell_type": "markdown",
      "metadata": {
        "id": "7W8QRc78IUpu"
      },
      "source": [
        "**Instantiating datasets for training, validation, and testing**"
      ]
    },
    {
      "cell_type": "code",
      "execution_count": null,
      "metadata": {
        "id": "-azjOrpyIUpu"
      },
      "outputs": [],
      "source": [
        "sampling_rate = 6\n",
        "sequence_length = 120\n",
        "delay = sampling_rate * (sequence_length + 24 - 1)\n",
        "batch_size = 256\n",
        "\n",
        "train_dataset = keras.utils.timeseries_dataset_from_array(\n",
        "    raw_data[:-delay],\n",
        "    targets=temperature[delay:],\n",
        "    sampling_rate=sampling_rate,\n",
        "    sequence_length=sequence_length,\n",
        "    shuffle=True,\n",
        "    batch_size=batch_size,\n",
        "    start_index=0,\n",
        "    end_index=num_train_samples)\n",
        "\n",
        "val_dataset = keras.utils.timeseries_dataset_from_array(\n",
        "    raw_data[:-delay],\n",
        "    targets=temperature[delay:],\n",
        "    sampling_rate=sampling_rate,\n",
        "    sequence_length=sequence_length,\n",
        "    shuffle=True,\n",
        "    batch_size=batch_size,\n",
        "    start_index=num_train_samples,\n",
        "    end_index=num_train_samples + num_val_samples)\n",
        "\n",
        "test_dataset = keras.utils.timeseries_dataset_from_array(\n",
        "    raw_data[:-delay],\n",
        "    targets=temperature[delay:],\n",
        "    sampling_rate=sampling_rate,\n",
        "    sequence_length=sequence_length,\n",
        "    shuffle=True,\n",
        "    batch_size=batch_size,\n",
        "    start_index=num_train_samples + num_val_samples)"
      ]
    },
    {
      "cell_type": "markdown",
      "metadata": {
        "id": "VqB48hFtIUpv"
      },
      "source": [
        "**Inspecting the output of one of our datasets**"
      ]
    },
    {
      "cell_type": "code",
      "execution_count": null,
      "metadata": {
        "colab": {
          "base_uri": "https://localhost:8080/"
        },
        "id": "RkPtPfVdIUpw",
        "outputId": "8f5792dc-1b05-40a9-db70-583df5fce486"
      },
      "outputs": [
        {
          "output_type": "stream",
          "name": "stdout",
          "text": [
            "samples shape: (256, 120, 14)\n",
            "targets shape: (256,)\n"
          ]
        }
      ],
      "source": [
        "for samples, targets in train_dataset:\n",
        "    print(\"samples shape:\", samples.shape)\n",
        "    print(\"targets shape:\", targets.shape)\n",
        "    break"
      ]
    },
    {
      "cell_type": "markdown",
      "metadata": {
        "id": "ko85MBf3_PLo"
      },
      "source": [
        "### Building a baseline \"model\"\n",
        "\n",
        "In this case we will try to predict the temperature by simply assuming that the temperature 24 hours from now will be equal to the temperature right now.\n",
        "\n",
        "We shall use the mean absolute error (MAE) as a metric of performance and consider this (rather silly) \"model\" as our baseline.\n"
      ]
    },
    {
      "cell_type": "markdown",
      "metadata": {
        "id": "R5bvOX9ZIUpw"
      },
      "source": [
        "**Computing the common-sense baseline MAE**"
      ]
    },
    {
      "cell_type": "code",
      "execution_count": null,
      "metadata": {
        "colab": {
          "base_uri": "https://localhost:8080/"
        },
        "id": "3J4emypcIUpx",
        "outputId": "4455de41-1c91-4157-e18b-f83061518c53"
      },
      "outputs": [
        {
          "output_type": "stream",
          "name": "stdout",
          "text": [
            "Validation MAE: 2.44\n",
            "Test MAE: 2.62\n"
          ]
        }
      ],
      "source": [
        "def evaluate_naive_method(dataset):\n",
        "    total_abs_err = 0.\n",
        "    samples_seen = 0\n",
        "    for samples, targets in dataset:\n",
        "        preds = samples[:, -1, 1] * std[1] + mean[1]\n",
        "        total_abs_err += np.sum(np.abs(preds - targets))\n",
        "        samples_seen += samples.shape[0]\n",
        "    return total_abs_err / samples_seen\n",
        "\n",
        "print(f\"Validation MAE: {evaluate_naive_method(val_dataset):.2f}\")\n",
        "print(f\"Test MAE: {evaluate_naive_method(test_dataset):.2f}\")"
      ]
    },
    {
      "cell_type": "markdown",
      "metadata": {
        "id": "oG1aHr4Y_Xej"
      },
      "source": [
        "### Building our *real* first model\n",
        "\n",
        "This is essentially the \"simple LSTM-based model\" from Listing 10.12 in the textbook."
      ]
    },
    {
      "cell_type": "code",
      "execution_count": null,
      "metadata": {
        "colab": {
          "base_uri": "https://localhost:8080/"
        },
        "id": "UCNOgENsIUpx",
        "outputId": "2c244ac8-f7c6-43b8-c191-6aec21419e1e"
      },
      "outputs": [
        {
          "output_type": "stream",
          "name": "stdout",
          "text": [
            "Epoch 1/10\n",
            "819/819 [==============================] - 51s 54ms/step - loss: 43.2915 - mae: 4.7757 - val_loss: 12.7227 - val_mae: 2.6986\n",
            "Epoch 2/10\n",
            "819/819 [==============================] - 44s 54ms/step - loss: 10.8452 - mae: 2.5584 - val_loss: 9.8237 - val_mae: 2.4398\n",
            "Epoch 3/10\n",
            "819/819 [==============================] - 43s 52ms/step - loss: 9.8002 - mae: 2.4483 - val_loss: 9.8030 - val_mae: 2.4349\n",
            "Epoch 4/10\n",
            "819/819 [==============================] - 45s 55ms/step - loss: 9.5168 - mae: 2.4080 - val_loss: 9.6064 - val_mae: 2.4008\n",
            "Epoch 5/10\n",
            "819/819 [==============================] - 43s 52ms/step - loss: 9.2230 - mae: 2.3684 - val_loss: 9.5865 - val_mae: 2.3980\n",
            "Epoch 6/10\n",
            "819/819 [==============================] - 44s 53ms/step - loss: 8.9690 - mae: 2.3355 - val_loss: 9.5996 - val_mae: 2.3962\n",
            "Epoch 7/10\n",
            "819/819 [==============================] - 43s 52ms/step - loss: 8.8067 - mae: 2.3121 - val_loss: 9.4869 - val_mae: 2.3906\n",
            "Epoch 8/10\n",
            "819/819 [==============================] - 43s 53ms/step - loss: 8.6480 - mae: 2.2910 - val_loss: 9.7563 - val_mae: 2.4297\n",
            "Epoch 9/10\n",
            "819/819 [==============================] - 43s 52ms/step - loss: 8.5432 - mae: 2.2784 - val_loss: 9.9994 - val_mae: 2.4360\n",
            "Epoch 10/10\n",
            "819/819 [==============================] - 44s 54ms/step - loss: 8.4787 - mae: 2.2674 - val_loss: 9.6385 - val_mae: 2.4169\n",
            "405/405 [==============================] - 14s 33ms/step - loss: 10.9166 - mae: 2.5974\n",
            "Test MAE: 2.60\n"
          ]
        }
      ],
      "source": [
        "from tensorflow import keras\n",
        "from tensorflow.keras import layers\n",
        "\n",
        "inputs = keras.Input(shape=(sequence_length, raw_data.shape[-1]))\n",
        "x = layers.LSTM(16)(inputs)\n",
        "outputs = layers.Dense(1)(x)\n",
        "model = keras.Model(inputs, outputs)\n",
        "\n",
        "callbacks = [\n",
        "    keras.callbacks.ModelCheckpoint(\"jena_lstm.keras\",\n",
        "                                    save_best_only=True)\n",
        "]\n",
        "model.compile(optimizer=\"rmsprop\", loss=\"mse\", metrics=[\"mae\"])\n",
        "history = model.fit(train_dataset,\n",
        "                    epochs=10,\n",
        "                    validation_data=val_dataset,\n",
        "                    callbacks=callbacks)\n",
        "\n",
        "model = keras.models.load_model(\"jena_lstm.keras\")\n",
        "print(f\"Test MAE: {model.evaluate(test_dataset)[1]:.2f}\")"
      ]
    },
    {
      "cell_type": "code",
      "execution_count": null,
      "metadata": {
        "colab": {
          "base_uri": "https://localhost:8080/",
          "height": 452
        },
        "id": "F29usgYBN_ZZ",
        "outputId": "95d9a2ce-7daa-44e1-8d97-aa1c46aebb5d"
      },
      "outputs": [
        {
          "output_type": "display_data",
          "data": {
            "text/plain": [
              "<Figure size 640x480 with 1 Axes>"
            ],
            "image/png": "[encoded data removed]"
          },
          "metadata": {}
        }
      ],
      "source": [
        "import matplotlib.pyplot as plt\n",
        "loss = history.history[\"mae\"]\n",
        "val_loss = history.history[\"val_mae\"]\n",
        "epochs = range(1, len(loss) + 1)\n",
        "plt.figure()\n",
        "plt.plot(epochs, loss, \"bo\", label=\"Training MAE\")\n",
        "plt.plot(epochs, val_loss, \"b\", label=\"Validation MAE\")\n",
        "plt.title(\"Training and validation MAE\")\n",
        "plt.legend()\n",
        "plt.show()"
      ]
    },
    {
      "cell_type": "markdown",
      "metadata": {
        "id": "NCOWYkha7sdJ"
      },
      "source": [
        "### Summary table\n",
        "(Example, manually generated)\n",
        "\n",
        "You can use the table below to show a summary of the experimental results. **Replace the Test MAE values and other contents with your own!**\n",
        "\n",
        "| Method | Test MAE | Remarks |\n",
        "| --- | --- | --- |\n",
        "| Baseline | 2.62 | Silly model: \"tomorrow will be like today\" |\n",
        "| Real first model (LSTM) | 2.54| Slightly better than baseline |\n",
        "| *Improved* model / variation of your choice | 2.12| Best overall, still shows signs of overfitting |\n"
      ]
    },
    {
      "cell_type": "code",
      "execution_count": null,
      "metadata": {
        "id": "erePpG9WCAFA",
        "colab": {
          "base_uri": "https://localhost:8080/",
          "height": 865
        },
        "outputId": "0c174ab8-caf4-442a-b312-baf3adf12b0f"
      },
      "outputs": [
        {
          "output_type": "stream",
          "name": "stdout",
          "text": [
            "Epoch 1/10\n",
            "819/819 [==============================] - 46s 53ms/step - loss: 7.6275 - mae: 7.6275 - val_loss: 6.7359 - val_mae: 6.7359\n",
            "Epoch 2/10\n",
            "819/819 [==============================] - 42s 51ms/step - loss: 7.2274 - mae: 7.2274 - val_loss: 6.6971 - val_mae: 6.6971\n",
            "Epoch 3/10\n",
            "819/819 [==============================] - 42s 51ms/step - loss: 7.1871 - mae: 7.1872 - val_loss: 6.7003 - val_mae: 6.7003\n",
            "Epoch 4/10\n",
            "819/819 [==============================] - 50s 61ms/step - loss: 7.1678 - mae: 7.1678 - val_loss: 6.6834 - val_mae: 6.6834\n",
            "Epoch 5/10\n",
            "819/819 [==============================] - 50s 60ms/step - loss: 7.1561 - mae: 7.1561 - val_loss: 6.6879 - val_mae: 6.6879\n",
            "Epoch 6/10\n",
            "819/819 [==============================] - 42s 51ms/step - loss: 7.1468 - mae: 7.1468 - val_loss: 6.6859 - val_mae: 6.6859\n",
            "Epoch 7/10\n",
            "819/819 [==============================] - 42s 51ms/step - loss: 7.1388 - mae: 7.1388 - val_loss: 6.6765 - val_mae: 6.6765\n",
            "Epoch 8/10\n",
            "819/819 [==============================] - 43s 52ms/step - loss: 7.1331 - mae: 7.1331 - val_loss: 6.6576 - val_mae: 6.6576\n",
            "Epoch 9/10\n",
            "819/819 [==============================] - 44s 53ms/step - loss: 7.1271 - mae: 7.1271 - val_loss: 6.6591 - val_mae: 6.6591\n",
            "Epoch 10/10\n",
            "819/819 [==============================] - 42s 51ms/step - loss: 7.1228 - mae: 7.1228 - val_loss: 6.6548 - val_mae: 6.6548\n",
            "405/405 [==============================] - 14s 34ms/step - loss: 6.6429 - mae: 6.6429\n",
            "Test MAE: 6.6429033279418945\n"
          ]
        },
        {
          "output_type": "display_data",
          "data": {
            "text/plain": [
              "<Figure size 640x480 with 1 Axes>"
            ],
            "image/png": "[encoded data removed]"
          },
          "metadata": {}
        }
      ],
      "source": [
        "import tensorflow as tf\n",
        "from tensorflow.keras.layers import Input, Dense, Dropout\n",
        "from tensorflow.keras.models import Model\n",
        "from tensorflow.keras.callbacks import ModelCheckpoint, EarlyStopping\n",
        "from sklearn.metrics import mean_absolute_error\n",
        "\n",
        "num_features = raw_data.shape[-1]\n",
        "sequence_length = 10\n",
        "inputs = Input(shape=(sequence_length, num_features))\n",
        "\n",
        "x = Dense(32, activation='relu')(inputs)\n",
        "x = Dropout(0.3)(x)\n",
        "x = Dense(16, activation='relu')(x)\n",
        "x = Dropout(0.2)(x)\n",
        "outputs = Dense(1)(x)\n",
        "model = Model(inputs, outputs)\n",
        "\n",
        "opt = tf.keras.optimizers.Adam(learning_rate=0.001)\n",
        "model.compile(optimizer=opt, loss=\"mae\", metrics=[\"mae\"])\n",
        "\n",
        "callbacks = [ModelCheckpoint(\"best_model.h5\", save_best_only=True), EarlyStopping(patience=5)]\n",
        "\n",
        "history = model.fit(train_dataset, epochs=10, validation_data=val_dataset, callbacks=callbacks)\n",
        "\n",
        "test_mae = model.evaluate(test_dataset)[1]\n",
        "\n",
        "print(\"Test MAE:\", test_mae)\n",
        "\n",
        "import matplotlib.pyplot as plt\n",
        "\n",
        "plt.plot(history.history[\"mae\"])\n",
        "plt.plot(history.history[\"val_mae\"])\n",
        "plt.title(\"Training and Validation MAE\")\n",
        "plt.xlabel(\"Epochs\")\n",
        "plt.ylabel(\"MAE\")\n",
        "plt.legend([\"Training MAE\", \"Validation MAE\"])\n",
        "plt.show()\n"
      ]
    },
    {
      "cell_type": "markdown",
      "metadata": {
        "id": "HPPt3a7jNNnM"
      },
      "source": [
        "## Part 2: Sentiment analysis using LSTMs\n",
        "\n",
        "In Part 2 we will revisit the IMDB movie review classification task from an earlier assignment, this time using more sophisticated approaches and architectures.\n",
        "\n",
        "Please refer to Chapter 11 of [our textbook](https://learning.oreilly.com/library/view/deep-learning-with/9781617296864) for background information on NLP and approaches for text representation in deep learning architectures.\n",
        "\n",
        "The code (and much of the text) below is essentially from https://www.tensorflow.org/text/tutorials/text_classification_rnn  \n"
      ]
    },
    {
      "cell_type": "markdown",
      "metadata": {
        "id": "5dCbHdZZNNnN"
      },
      "source": [
        "Useful sources and references for Part 2:\n",
        "\n",
        "- https://colab.research.google.com/github/fchollet/deep-learning-with-python-notebooks/blob/master/chapter11_part01_introduction.ipynb\n",
        "- https://colab.research.google.com/github/fchollet/deep-learning-with-python-notebooks/blob/master/chapter11_part02_sequence-models.ipynb\n"
      ]
    },
    {
      "cell_type": "markdown",
      "metadata": {
        "id": "_2VQo4bajwUU"
      },
      "source": [
        "### Imports + auxiliary function"
      ]
    },
    {
      "cell_type": "code",
      "execution_count": null,
      "metadata": {
        "id": "z682XYsrjkY9"
      },
      "outputs": [],
      "source": [
        "import numpy as np\n",
        "\n",
        "import tensorflow_datasets as tfds\n",
        "import tensorflow as tf\n",
        "\n",
        "tfds.disable_progress_bar()"
      ]
    },
    {
      "cell_type": "markdown",
      "metadata": {
        "id": "1rXHa-w9JZhb"
      },
      "source": [
        "Import `matplotlib` and create a helper function to plot graphs:"
      ]
    },
    {
      "cell_type": "code",
      "execution_count": null,
      "metadata": {
        "id": "Mp1Z7P9pYRSK"
      },
      "outputs": [],
      "source": [
        "import matplotlib.pyplot as plt\n",
        "\n",
        "\n",
        "def plot_graphs(history, metric):\n",
        "  plt.plot(history.history[metric])\n",
        "  plt.plot(history.history['val_'+metric], '')\n",
        "  plt.xlabel(\"Epochs\")\n",
        "  plt.ylabel(metric)\n",
        "  plt.legend([metric, 'val_'+metric])"
      ]
    },
    {
      "cell_type": "markdown",
      "metadata": {
        "id": "pRmMubr0jrE2"
      },
      "source": [
        "### Setup input pipeline\n",
        "\n",
        "\n",
        "The IMDB large movie review dataset is a *binary classification* dataset—all the reviews have either a *positive* or *negative* sentiment.\n",
        "\n",
        "Download the dataset using [TFDS](https://www.tensorflow.org/datasets). See the [loading text tutorial](https://www.tensorflow.org/tutorials/load_data/text) for details on how to load this sort of data manually.\n"
      ]
    },
    {
      "cell_type": "code",
      "execution_count": null,
      "metadata": {
        "colab": {
          "base_uri": "https://localhost:8080/"
        },
        "id": "SHRwRoP2nVHX",
        "outputId": "f4690de7-3ee0-4bb6-e3d1-f658f61d0bee"
      },
      "outputs": [
        {
          "output_type": "stream",
          "name": "stdout",
          "text": [
            "Downloading and preparing dataset Unknown size (download: Unknown size, generated: Unknown size, total: Unknown size) to /root/tensorflow_datasets/imdb_reviews/plain_text/1.0.0...\n",
            "Dataset imdb_reviews downloaded and prepared to /root/tensorflow_datasets/imdb_reviews/plain_text/1.0.0. Subsequent calls will reuse this data.\n"
          ]
        },
        {
          "output_type": "execute_result",
          "data": {
            "text/plain": [
              "(TensorSpec(shape=(), dtype=tf.string, name=None),\n",
              " TensorSpec(shape=(), dtype=tf.int64, name=None))"
            ]
          },
          "metadata": {},
          "execution_count": 24
        }
      ],
      "source": [
        "dataset, info = tfds.load('imdb_reviews', with_info=True,\n",
        "                          as_supervised=True)\n",
        "train_dataset, test_dataset = dataset['train'], dataset['test']\n",
        "\n",
        "train_dataset.element_spec"
      ]
    },
    {
      "cell_type": "markdown",
      "metadata": {
        "id": "nWA4c2ir7g6p"
      },
      "source": [
        "Initially this returns a dataset of (text, label pairs):"
      ]
    },
    {
      "cell_type": "code",
      "execution_count": null,
      "metadata": {
        "colab": {
          "base_uri": "https://localhost:8080/"
        },
        "id": "vd4_BGKyurao",
        "outputId": "625cd7c3-10dd-4fb6-b27b-fe941fbc44fd"
      },
      "outputs": [
        {
          "output_type": "stream",
          "name": "stdout",
          "text": [
            "text:  b\"This was an absolutely terrible movie. Don't be lured in by Christopher Walken or Michael Ironside. Both are great actors, but this must simply be their worst role in history. Even their great acting could not redeem this movie's ridiculous storyline. This movie is an early nineties US propaganda piece. The most pathetic scenes were those when the Columbian rebels were making their cases for revolutions. Maria Conchita Alonso appeared phony, and her pseudo-love affair with Walken was nothing but a pathetic emotional plug in a movie that was devoid of any real meaning. I am disappointed that there are movies like this, ruining actor's like Christopher Walken's good name. I could barely sit through it.\"\n",
            "label:  0\n"
          ]
        }
      ],
      "source": [
        "for example, label in train_dataset.take(1):\n",
        "  print('text: ', example.numpy())\n",
        "  print('label: ', label.numpy())"
      ]
    },
    {
      "cell_type": "markdown",
      "metadata": {
        "id": "z2qVJzcEluH_"
      },
      "source": [
        "Next shuffle the data for training and create batches of these `(text, label)` pairs:"
      ]
    },
    {
      "cell_type": "code",
      "execution_count": null,
      "metadata": {
        "id": "dDsCaZCDYZgm"
      },
      "outputs": [],
      "source": [
        "BUFFER_SIZE = 10000\n",
        "BATCH_SIZE = 64"
      ]
    },
    {
      "cell_type": "code",
      "execution_count": null,
      "metadata": {
        "id": "VznrltNOnUc5"
      },
      "outputs": [],
      "source": [
        "train_dataset = train_dataset.shuffle(BUFFER_SIZE).batch(BATCH_SIZE).prefetch(tf.data.AUTOTUNE)\n",
        "test_dataset = test_dataset.batch(BATCH_SIZE).prefetch(tf.data.AUTOTUNE)"
      ]
    },
    {
      "cell_type": "code",
      "execution_count": null,
      "metadata": {
        "colab": {
          "base_uri": "https://localhost:8080/"
        },
        "id": "jqkvdcFv41wC",
        "outputId": "0eb19a4d-d1b8-4769-d4ff-f4f250e01ded"
      },
      "outputs": [
        {
          "output_type": "stream",
          "name": "stdout",
          "text": [
            "texts:  [b\"Going into this movie, I had heard good things about it. Coming out of it, I wasn't really amazed nor disappointed. Simon Pegg plays a rather childish character much like his other movies. There were a couple of laughs here and there-- nothing too funny. Probably my favorite parts of the movie is when he dances in the club scene. I totally gotta try that out next time I find myself in a club. A couple of stars here and there including: Megan Fox, Kirsten Dunst, that chick from X-Files, and Jeff Bridges. I found it quite amusing to see a cameo appearance of Thandie Newton in a scene. She of course being in a previous movie with Simon Pegg, Run Fatboy Run. I see it as a toss up, you'll either enjoy it to an extent or find it a little dull. I might add, Kirsten Dunst is adorable in this movie. :3\"\n",
            " b'This program is really overrated. A detective like Danny Pino\\'s hot-headed character would have been transferred to the \"rubber gun squad\" years ago. The whole squad is made up of sanctimonious egomaniacs who judge people whose actions go back decades by the standards of 2007. Every Vietnam veteran character they\\'ve ever had has turned out to be the killer, unless it was another Vietnam veteran. There has only been one black murderer, and he was put up to it by his white boss. The only Hispanic killer was a \"race traitor\" who killed another Hispanic to frame a Hispanic street kid for a crime that (naturally) two rich white kids committed. What a bunch of propaganda. Hey,screenwriters: minorities and poor people commit murder too. Only on this show are most murderers upper-class whites.<br /><br />What\\'s more, the arrests of people in their 70s, 80s, and 90s for crimes they committed 50-60 years ago are a joke. No real-life DA will push for murder one because it means the state will be stuck with their humongous medical bills until they finally kick. The state would be doing their families and insurance companies a favor. The prosecutor will just plead them to involuntary manslaughter and they won\\'t serve a day. The only really old criminals who go to prison are either organized crime figures or ex-Nazis, whose high-profile convictions boost DA\\'s careers.'\n",
            " b\"WOW!<br /><br />I just was given this film from a friend of mine, who bought it for 1.98 at Walmart, and he felt that he got taken! It is beyond boring, most of the scenes are filmed in front of a green screen, the acting is somewhat improvised, almost as if they didn't have a script. The Martians are CGI, which look like they were done by a novice, or a Fan produced movie. I cannot stress just how bad this DVD really is!<br /><br />Example: In one of the scenes, the martians are torturing a local female captive. She goes from a woman in front of a green screen, to a CGI copy of that woman. The change is totally noticeable, and when she is killed, you can see that it is a computer figure, looking like something from a game back in 1990!<br /><br />If at all possible, avoid this movie like the plague! You can download two trailers from their site, and see how god-awful it really is!\"]\n",
            "\n",
            "labels:  [1 0 0]\n"
          ]
        }
      ],
      "source": [
        "for example, label in train_dataset.take(1):\n",
        "  print('texts: ', example.numpy()[:3])\n",
        "  print()\n",
        "  print('labels: ', label.numpy()[:3])"
      ]
    },
    {
      "cell_type": "markdown",
      "metadata": {
        "id": "s5eWCo88voPY"
      },
      "source": [
        "### Create the text encoder"
      ]
    },
    {
      "cell_type": "markdown",
      "metadata": {
        "id": "TFevcItw15P_"
      },
      "source": [
        "The raw text loaded by `tfds` needs to be processed before it can be used in a model. The simplest way to process text for training is using the `TextVectorization` layer. This layer has many capabilities, but this tutorial sticks to the default behavior.\n",
        "\n",
        "Create the layer, and pass the dataset's text to the layer's `.adapt` method:"
      ]
    },
    {
      "cell_type": "code",
      "execution_count": null,
      "metadata": {
        "id": "uC25Lu1Yvuqy"
      },
      "outputs": [],
      "source": [
        "VOCAB_SIZE = 1000\n",
        "encoder = tf.keras.layers.TextVectorization(\n",
        "    max_tokens=VOCAB_SIZE)\n",
        "encoder.adapt(train_dataset.map(lambda text, label: text))"
      ]
    },
    {
      "cell_type": "markdown",
      "metadata": {
        "id": "IuQzVBbe3Ldu"
      },
      "source": [
        "The `.adapt` method sets the layer's vocabulary. Here are the first 20 tokens. After the padding and unknown tokens they're sorted by frequency:"
      ]
    },
    {
      "cell_type": "code",
      "execution_count": null,
      "metadata": {
        "colab": {
          "base_uri": "https://localhost:8080/"
        },
        "id": "tBoyjjWg0Ac9",
        "outputId": "e94f6248-70fc-4df7-f60b-524cc1496235"
      },
      "outputs": [
        {
          "data": {
            "text/plain": [
              "array(['', '[UNK]', 'the', 'and', 'a', 'of', 'to', 'is', 'in', 'it', 'i',\n",
              "       'this', 'that', 'br', 'was', 'as', 'for', 'with', 'movie', 'but'],\n",
              "      dtype='<U14')"
            ]
          },
          "execution_count": 9,
          "metadata": {},
          "output_type": "execute_result"
        }
      ],
      "source": [
        "vocab = np.array(encoder.get_vocabulary())\n",
        "vocab[:20]"
      ]
    },
    {
      "cell_type": "markdown",
      "metadata": {
        "id": "mjId5pua3jHQ"
      },
      "source": [
        "Once the vocabulary is set, the layer can encode text into indices. The tensors of indices are 0-padded to the longest sequence in the batch (unless you set a fixed `output_sequence_length`):"
      ]
    },
    {
      "cell_type": "code",
      "execution_count": null,
      "metadata": {
        "colab": {
          "base_uri": "https://localhost:8080/"
        },
        "id": "RGc7C9WiwRWs",
        "outputId": "8c75e0ba-38bf-40cd-9e00-dec0a3ad6217"
      },
      "outputs": [
        {
          "data": {
            "text/plain": [
              "array([[ 29,   5,   2, ...,   0,   0,   0],\n",
              "       [452, 590,  49, ...,   0,   0,   0],\n",
              "       [208,  11,  56, ...,   0,   0,   0]])"
            ]
          },
          "execution_count": 10,
          "metadata": {},
          "output_type": "execute_result"
        }
      ],
      "source": [
        "encoded_example = encoder(example)[:3].numpy()\n",
        "encoded_example"
      ]
    },
    {
      "cell_type": "markdown",
      "metadata": {
        "id": "F5cjz0bS39IN"
      },
      "source": [
        "With the default settings, the process is not completely reversible. There are three main reasons for that:\n",
        "\n",
        "1. The default value for `preprocessing.TextVectorization`'s `standardize` argument is `\"lower_and_strip_punctuation\"`.\n",
        "2. The limited vocabulary size and lack of character-based fallback results in some unknown tokens."
      ]
    },
    {
      "cell_type": "code",
      "execution_count": null,
      "metadata": {
        "colab": {
          "base_uri": "https://localhost:8080/"
        },
        "id": "N_tD0QY5wXaK",
        "outputId": "c180bd57-bf12-4f15-ea64-d3d8a3109068"
      },
      "outputs": [
        {
          "name": "stdout",
          "output_type": "stream",
          "text": [
            "Original:  b'One of the best if not the best rock\\'n\\'roll movies ever. And it\\'s not just mindless fun. There really were a lot of clever jokes in it. Of course I love the Ramones. But with all the \"anarchy\" and the \"I hate high school\" themes, the film doesn\\'t at all take itself too seriously,which is what\\'s great about it.<br /><br />I first saw the movie in the Spring of 1980, and I saw it again recently. Since I went to high school in the late 1970\\'s, it made me kind of nostalgic. <br /><br />Like I said, this film doesn\\'t take itself that seriously and isn\\'t pretentious like so much other teen fare of the seventies, eighties, and nineties. And to speak of, it\\'s not really dirty or disgusting either. Only PG rated. That\\'s rare for a movie in this category. A great cult classic and a truly incredible time capsule.'\n",
            "Round-trip:  one of the best if not the best [UNK] movies ever and its not just [UNK] fun there really were a lot of [UNK] jokes in it of course i love the [UNK] but with all the [UNK] and the i hate high school [UNK] the film doesnt at all take itself too [UNK] is whats great about itbr br i first saw the movie in the [UNK] of [UNK] and i saw it again [UNK] since i went to high school in the late [UNK] it made me kind of [UNK] br br like i said this film doesnt take itself that seriously and isnt [UNK] like so much other [UNK] [UNK] of the [UNK] [UNK] and [UNK] and to [UNK] of its not really [UNK] or [UNK] either only [UNK] [UNK] thats [UNK] for a movie in this [UNK] a great [UNK] classic and a truly [UNK] time [UNK]                                                                                                                                                                                                                                                                                                                                                                                                                                                                                                                                                                                                                                                                                                                                                                                     \n",
            "\n",
            "Original:  b'Oh god, what a horrible, horrible film. Meant to be a comment on the state of society, it\\'s just a reflection of the worst of the worst in reality TV. Interstitials hosted by Jason Jones and Don McKellar are the most obnoxious part, written in a tone that is perhaps meant to be reflexive and insightful. Rather, these moments are mind numbing as they speak to the camera with dialogue written by someone with a love for insulting, condescending speech that shoves the \"meaning\" of the film down the viewer\\'s throat.<br /><br />Also, a point to would-be filmmakers: Long takes and quiet scenes do not equal art. Neither do extreme angles or logic stretched to the point of absurdity.<br /><br />If anyone out there is interested in watching this film, please don\\'t. Seriously. Please. You have better things to do.'\n",
            "Round-trip:  oh god what a horrible horrible film meant to be a comment on the [UNK] of society its just a [UNK] of the worst of the worst in reality tv [UNK] [UNK] by [UNK] [UNK] and [UNK] [UNK] are the most [UNK] part written in a [UNK] that is perhaps meant to be [UNK] and [UNK] rather these moments are mind [UNK] as they [UNK] to the camera with dialogue written by someone with a love for [UNK] [UNK] [UNK] that [UNK] the [UNK] of the film down the viewers [UNK] br also a point to [UNK] filmmakers long takes and [UNK] scenes do not [UNK] art [UNK] do [UNK] [UNK] or [UNK] [UNK] to the point of [UNK] br if anyone out there is interested in watching this film please dont seriously please you have better things to do                                                                                                                                                                                                                                                                                                                                                                                                                                                                                                                                                                                                                                                                                                                                                                                                \n",
            "\n",
            "Original:  b\"Saw this my last day at the festival, and was glad I stuck around that extra couple of days. Poetic, moving, and most surprisingly, funny, in it's own strange way. It's so rare to see directors working in this style who are able to find true strangeness and humor in a hyper-realistic world, without seeming precious, or upsetting the balance. Manages to seem both improvised, yet completely controlled. It I hesitate to make comparisons, because these filmmakers have really digested their influences (Cassavetes, Malick, Loach, Altman...the usual suspects) and found their own unique style, but if you like modern directors in this tradition (Lynne Ramsay, David Gordon Greene), you're in for a real treat. This is a wonderful film, and I hope more people get to see it. If this film plays in a festival in your city, go! go! go!\"\n",
            "Round-trip:  saw this my last day at the [UNK] and was [UNK] i [UNK] around that [UNK] couple of days [UNK] moving and most [UNK] funny in its own strange way its so [UNK] to see directors working in this style who are able to find true [UNK] and humor in a [UNK] world without [UNK] [UNK] or [UNK] the [UNK] manages to seem both [UNK] yet completely [UNK] it i [UNK] to make [UNK] because these filmmakers have really [UNK] their [UNK] [UNK] [UNK] [UNK] [UNK] usual [UNK] and found their own unique style but if you like modern directors in this [UNK] [UNK] [UNK] david [UNK] [UNK] youre in for a real [UNK] this is a wonderful film and i hope more people get to see it if this film plays in a [UNK] in your city go go go                                                                                                                                                                                                                                                                                                                                                                                                                                                                                                                                                                                                                                                                                                                                                                                               \n",
            "\n"
          ]
        }
      ],
      "source": [
        "for n in range(3):\n",
        "  print(\"Original: \", example[n].numpy())\n",
        "  print(\"Round-trip: \", \" \".join(vocab[encoded_example[n]]))\n",
        "  print()"
      ]
    },
    {
      "cell_type": "markdown",
      "metadata": {
        "id": "bjUqGVBxGw-t"
      },
      "source": [
        "### Create the first model\n",
        "\n",
        "Please refer to https://www.tensorflow.org/text/tutorials/text_classification_rnn for detailed explanation + diagram."
      ]
    },
    {
      "cell_type": "code",
      "execution_count": null,
      "metadata": {
        "id": "LwfoBkmRYcP3"
      },
      "outputs": [],
      "source": [
        "model = tf.keras.Sequential([\n",
        "    encoder,\n",
        "    tf.keras.layers.Embedding(\n",
        "        input_dim=len(encoder.get_vocabulary()),\n",
        "        output_dim=64,\n",
        "        # Use masking to handle the variable sequence lengths\n",
        "        mask_zero=True),\n",
        "    tf.keras.layers.Bidirectional(tf.keras.layers.LSTM(64)),\n",
        "    tf.keras.layers.Dense(64, activation='relu'),\n",
        "    tf.keras.layers.Dense(1)\n",
        "])"
      ]
    },
    {
      "cell_type": "markdown",
      "metadata": {
        "id": "QIGmIGkkouUb"
      },
      "source": [
        "Please note that Keras sequential model is used here since all the layers in the model only have single input and produce single output. In case you want to use stateful RNN layer, you might want to build your model with Keras functional API or model subclassing so that you can retrieve and reuse the RNN layer states. Please check [Keras RNN guide](https://www.tensorflow.org/guide/keras/rnn#rnn_state_reuse) for more details."
      ]
    },
    {
      "cell_type": "markdown",
      "metadata": {
        "id": "kF-PsCk1LwjY"
      },
      "source": [
        "The embedding layer [uses masking](https://www.tensorflow.org/guide/keras/masking_and_padding) to handle the varying sequence-lengths. All the layers after the `Embedding` support masking:"
      ]
    },
    {
      "cell_type": "code",
      "execution_count": null,
      "metadata": {
        "colab": {
          "base_uri": "https://localhost:8080/"
        },
        "id": "87a8-CwfKebw",
        "outputId": "caace24b-8caf-476f-bc61-f940ebd5def2"
      },
      "outputs": [
        {
          "name": "stdout",
          "output_type": "stream",
          "text": [
            "[False, True, True, True, True]\n"
          ]
        }
      ],
      "source": [
        "print([layer.supports_masking for layer in model.layers])"
      ]
    },
    {
      "cell_type": "markdown",
      "metadata": {
        "id": "ZlS0iaUIWLpI"
      },
      "source": [
        "To confirm that this works as expected, evaluate a sentence twice. First, alone so there's no padding to mask:"
      ]
    },
    {
      "cell_type": "code",
      "execution_count": null,
      "metadata": {
        "colab": {
          "base_uri": "https://localhost:8080/"
        },
        "id": "O41gw3KfWHus",
        "outputId": "b9f714b5-b077-42a0-d82e-e6e07e0fb426"
      },
      "outputs": [
        {
          "name": "stdout",
          "output_type": "stream",
          "text": [
            "1/1 [==============================] - 4s 4s/step\n",
            "[0.00353277]\n"
          ]
        }
      ],
      "source": [
        "# predict on a sample text without padding.\n",
        "\n",
        "sample_text = ('The movie was cool. The animation and the graphics '\n",
        "               'were out of this world. I would recommend this movie.')\n",
        "predictions = model.predict(np.array([sample_text]))\n",
        "print(predictions[0])"
      ]
    },
    {
      "cell_type": "markdown",
      "metadata": {
        "id": "K0VQmGnEWcuz"
      },
      "source": [
        "Now, evaluate it again in a batch with a longer sentence. The result should be identical:"
      ]
    },
    {
      "cell_type": "code",
      "execution_count": null,
      "metadata": {
        "colab": {
          "base_uri": "https://localhost:8080/"
        },
        "id": "UIgpuTeFNDzq",
        "outputId": "d738abc0-1193-421c-ee3c-5f627212dc52"
      },
      "outputs": [
        {
          "name": "stdout",
          "output_type": "stream",
          "text": [
            "1/1 [==============================] - 0s 72ms/step\n",
            "[0.00353277]\n"
          ]
        }
      ],
      "source": [
        "# predict on a sample text with padding\n",
        "\n",
        "padding = \"the \" * 2000\n",
        "predictions = model.predict(np.array([sample_text, padding]))\n",
        "print(predictions[0])"
      ]
    },
    {
      "cell_type": "markdown",
      "metadata": {
        "id": "sRI776ZcH3Tf"
      },
      "source": [
        "Compile the Keras model to configure the training process:"
      ]
    },
    {
      "cell_type": "code",
      "execution_count": null,
      "metadata": {
        "id": "kj2xei41YZjC"
      },
      "outputs": [],
      "source": [
        "model.compile(loss=tf.keras.losses.BinaryCrossentropy(from_logits=True),\n",
        "              optimizer=tf.keras.optimizers.Adam(1e-4),\n",
        "              metrics=['accuracy'])"
      ]
    },
    {
      "cell_type": "markdown",
      "metadata": {
        "id": "zIwH3nto596k"
      },
      "source": [
        "### Train the model"
      ]
    },
    {
      "cell_type": "code",
      "execution_count": null,
      "metadata": {
        "colab": {
          "base_uri": "https://localhost:8080/"
        },
        "id": "hw86wWS4YgR2",
        "outputId": "668fa301-77c7-4171-caf7-c59b0d0454e4"
      },
      "outputs": [
        {
          "name": "stdout",
          "output_type": "stream",
          "text": [
            "Epoch 1/10\n",
            "391/391 [==============================] - 69s 149ms/step - loss: 0.6535 - accuracy: 0.5577 - val_loss: 0.4929 - val_accuracy: 0.7828\n",
            "Epoch 2/10\n",
            "391/391 [==============================] - 34s 86ms/step - loss: 0.4175 - accuracy: 0.8124 - val_loss: 0.3830 - val_accuracy: 0.8359\n",
            "Epoch 3/10\n",
            "391/391 [==============================] - 31s 77ms/step - loss: 0.3462 - accuracy: 0.8490 - val_loss: 0.3447 - val_accuracy: 0.8562\n",
            "Epoch 4/10\n",
            "391/391 [==============================] - 32s 81ms/step - loss: 0.3221 - accuracy: 0.8613 - val_loss: 0.3394 - val_accuracy: 0.8422\n",
            "Epoch 5/10\n",
            "391/391 [==============================] - 32s 82ms/step - loss: 0.3131 - accuracy: 0.8664 - val_loss: 0.3234 - val_accuracy: 0.8656\n",
            "Epoch 6/10\n",
            "391/391 [==============================] - 30s 77ms/step - loss: 0.3062 - accuracy: 0.8694 - val_loss: 0.3341 - val_accuracy: 0.8536\n",
            "Epoch 7/10\n",
            "391/391 [==============================] - 31s 78ms/step - loss: 0.3017 - accuracy: 0.8720 - val_loss: 0.3205 - val_accuracy: 0.8609\n",
            "Epoch 8/10\n",
            "391/391 [==============================] - 32s 82ms/step - loss: 0.2985 - accuracy: 0.8723 - val_loss: 0.3226 - val_accuracy: 0.8687\n",
            "Epoch 9/10\n",
            "391/391 [==============================] - 31s 79ms/step - loss: 0.2964 - accuracy: 0.8736 - val_loss: 0.3235 - val_accuracy: 0.8656\n",
            "Epoch 10/10\n",
            "391/391 [==============================] - 31s 77ms/step - loss: 0.2949 - accuracy: 0.8761 - val_loss: 0.3219 - val_accuracy: 0.8589\n"
          ]
        }
      ],
      "source": [
        "history = model.fit(train_dataset, epochs=10,\n",
        "                    validation_data=test_dataset,\n",
        "                    validation_steps=30)"
      ]
    },
    {
      "cell_type": "code",
      "execution_count": null,
      "metadata": {
        "colab": {
          "base_uri": "https://localhost:8080/"
        },
        "id": "BaNbXi43YgUT",
        "outputId": "9f27f262-df26-4caf-daff-1da16128617d"
      },
      "outputs": [
        {
          "name": "stdout",
          "output_type": "stream",
          "text": [
            "391/391 [==============================] - 16s 41ms/step - loss: 0.3178 - accuracy: 0.8542\n",
            "Test Loss: 0.3177717626094818\n",
            "Test Accuracy: 0.8542400002479553\n"
          ]
        }
      ],
      "source": [
        "test_loss, test_acc = model.evaluate(test_dataset)\n",
        "\n",
        "print('Test Loss:', test_loss)\n",
        "print('Test Accuracy:', test_acc)"
      ]
    },
    {
      "cell_type": "code",
      "execution_count": null,
      "metadata": {
        "colab": {
          "base_uri": "https://localhost:8080/",
          "height": 719
        },
        "id": "OZmwt_mzaQJk",
        "outputId": "95f229e6-7c57-45cc-a42c-150e88a9743d"
      },
      "outputs": [
        {
          "data": {
            "text/plain": [
              "(0.0, 0.6714437931776047)"
            ]
          },
          "execution_count": 19,
          "metadata": {},
          "output_type": "execute_result"
        },
        {
          "data": {
            "image/png": "[encoded data removed]",
            "text/plain": [
              "<Figure size 1600x800 with 2 Axes>"
            ]
          },
          "metadata": {},
          "output_type": "display_data"
        }
      ],
      "source": [
        "plt.figure(figsize=(16, 8))\n",
        "plt.subplot(1, 2, 1)\n",
        "plot_graphs(history, 'accuracy')\n",
        "plt.ylim(None, 1)\n",
        "plt.subplot(1, 2, 2)\n",
        "plot_graphs(history, 'loss')\n",
        "plt.ylim(0, None)"
      ]
    },
    {
      "cell_type": "markdown",
      "metadata": {
        "id": "DwSE_386uhxD"
      },
      "source": [
        "Run a prediction on a new sentence:\n",
        "\n",
        "If the prediction is >= 0.0, it is positive else it is negative."
      ]
    },
    {
      "cell_type": "code",
      "execution_count": null,
      "metadata": {
        "colab": {
          "base_uri": "https://localhost:8080/"
        },
        "id": "ZXgfQSgRW6zU",
        "outputId": "1707322c-4483-4ddd-91bc-2c32c9279696"
      },
      "outputs": [
        {
          "name": "stdout",
          "output_type": "stream",
          "text": [
            "1/1 [==============================] - 0s 51ms/step\n"
          ]
        }
      ],
      "source": [
        "sample_text = ('The movie was cool. The animation and the graphics '\n",
        "               'were out of this world. I would recommend this movie.')\n",
        "predictions = model.predict(np.array([sample_text]))"
      ]
    },
    {
      "cell_type": "markdown",
      "metadata": {
        "id": "7g1evcaRpTKm"
      },
      "source": [
        "### Second model: stacking two LSTM layers\n",
        "\n",
        "Please refer to https://www.tensorflow.org/text/tutorials/text_classification_rnn for additional explanation + diagram."
      ]
    },
    {
      "cell_type": "markdown",
      "metadata": {
        "id": "wbSClCrG1z8l"
      },
      "source": [
        "The interesting thing about using an `RNN` with `return_sequences=True` is that the output still has 3-axes, like the input, so it can be passed to another RNN layer, like this:"
      ]
    },
    {
      "cell_type": "code",
      "execution_count": null,
      "metadata": {
        "id": "jo1jjO3vn0jo"
      },
      "outputs": [],
      "source": [
        "model = tf.keras.Sequential([\n",
        "    encoder,\n",
        "    tf.keras.layers.Embedding(len(encoder.get_vocabulary()), 64, mask_zero=True),\n",
        "    tf.keras.layers.Bidirectional(tf.keras.layers.LSTM(64,  return_sequences=True)),\n",
        "    tf.keras.layers.Bidirectional(tf.keras.layers.LSTM(32)),\n",
        "    tf.keras.layers.Dense(64, activation='relu'),\n",
        "    tf.keras.layers.Dropout(0.5),\n",
        "    tf.keras.layers.Dense(1)\n",
        "])"
      ]
    },
    {
      "cell_type": "code",
      "execution_count": null,
      "metadata": {
        "id": "hEPV5jVGp-is"
      },
      "outputs": [],
      "source": [
        "model.compile(loss=tf.keras.losses.BinaryCrossentropy(from_logits=True),\n",
        "              optimizer=tf.keras.optimizers.Adam(1e-4),\n",
        "              metrics=['accuracy'])"
      ]
    },
    {
      "cell_type": "code",
      "execution_count": null,
      "metadata": {
        "colab": {
          "base_uri": "https://localhost:8080/"
        },
        "id": "LeSE-YjdqAeN",
        "outputId": "739a57a8-cbcf-4e66-a0d1-43935414b887"
      },
      "outputs": [
        {
          "name": "stdout",
          "output_type": "stream",
          "text": [
            "Epoch 1/10\n",
            "391/391 [==============================] - 100s 197ms/step - loss: 0.6421 - accuracy: 0.5683 - val_loss: 0.4447 - val_accuracy: 0.8047\n",
            "Epoch 2/10\n",
            "391/391 [==============================] - 58s 149ms/step - loss: 0.3899 - accuracy: 0.8296 - val_loss: 0.3552 - val_accuracy: 0.8443\n",
            "Epoch 3/10\n",
            "391/391 [==============================] - 59s 149ms/step - loss: 0.3351 - accuracy: 0.8565 - val_loss: 0.3349 - val_accuracy: 0.8417\n",
            "Epoch 4/10\n",
            "391/391 [==============================] - 59s 151ms/step - loss: 0.3235 - accuracy: 0.8639 - val_loss: 0.3243 - val_accuracy: 0.8531\n",
            "Epoch 5/10\n",
            "391/391 [==============================] - 58s 147ms/step - loss: 0.3129 - accuracy: 0.8659 - val_loss: 0.3209 - val_accuracy: 0.8583\n",
            "Epoch 6/10\n",
            "391/391 [==============================] - 57s 146ms/step - loss: 0.3070 - accuracy: 0.8685 - val_loss: 0.3233 - val_accuracy: 0.8500\n",
            "Epoch 7/10\n",
            "391/391 [==============================] - 58s 148ms/step - loss: 0.3039 - accuracy: 0.8691 - val_loss: 0.3205 - val_accuracy: 0.8521\n",
            "Epoch 8/10\n",
            "391/391 [==============================] - 59s 150ms/step - loss: 0.3028 - accuracy: 0.8704 - val_loss: 0.3229 - val_accuracy: 0.8578\n",
            "Epoch 9/10\n",
            "391/391 [==============================] - 59s 151ms/step - loss: 0.2970 - accuracy: 0.8705 - val_loss: 0.3212 - val_accuracy: 0.8641\n",
            "Epoch 10/10\n",
            "391/391 [==============================] - 59s 151ms/step - loss: 0.2948 - accuracy: 0.8728 - val_loss: 0.3200 - val_accuracy: 0.8495\n"
          ]
        }
      ],
      "source": [
        "history = model.fit(train_dataset, epochs=10,\n",
        "                    validation_data=test_dataset,\n",
        "                    validation_steps=30)"
      ]
    },
    {
      "cell_type": "code",
      "execution_count": null,
      "metadata": {
        "colab": {
          "base_uri": "https://localhost:8080/"
        },
        "id": "_LdwilM1qPM3",
        "outputId": "7db9cf1c-193b-4258-a26f-e7c54715a1c2"
      },
      "outputs": [
        {
          "name": "stdout",
          "output_type": "stream",
          "text": [
            "391/391 [==============================] - 26s 68ms/step - loss: 0.3168 - accuracy: 0.8508\n",
            "Test Loss: 0.31681591272354126\n",
            "Test Accuracy: 0.8507999777793884\n"
          ]
        }
      ],
      "source": [
        "test_loss, test_acc = model.evaluate(test_dataset)\n",
        "\n",
        "print('Test Loss:', test_loss)\n",
        "print('Test Accuracy:', test_acc)"
      ]
    },
    {
      "cell_type": "code",
      "execution_count": null,
      "metadata": {
        "colab": {
          "base_uri": "https://localhost:8080/"
        },
        "id": "ykUKnAoqbycW",
        "outputId": "49d23069-7462-45e6-d7ba-a2cf96ad3877"
      },
      "outputs": [
        {
          "name": "stdout",
          "output_type": "stream",
          "text": [
            "1/1 [==============================] - 6s 6s/step\n",
            "[[-1.8912623]]\n"
          ]
        }
      ],
      "source": [
        "# predict on a sample text without padding.\n",
        "\n",
        "sample_text = ('The movie was not good. The animation and the graphics '\n",
        "               'were terrible. I would not recommend this movie.')\n",
        "predictions = model.predict(np.array([sample_text]))\n",
        "print(predictions)"
      ]
    },
    {
      "cell_type": "code",
      "execution_count": null,
      "metadata": {
        "colab": {
          "base_uri": "https://localhost:8080/",
          "height": 542
        },
        "id": "_YYub0EDtwCu",
        "outputId": "4ea95356-59f0-4a0c-de62-6ab0819c8057"
      },
      "outputs": [
        {
          "data": {
            "image/png": "[encoded data removed]",
            "text/plain": [
              "<Figure size 1600x600 with 2 Axes>"
            ]
          },
          "metadata": {},
          "output_type": "display_data"
        }
      ],
      "source": [
        "plt.figure(figsize=(16, 6))\n",
        "plt.subplot(1, 2, 1)\n",
        "plot_graphs(history, 'accuracy')\n",
        "plt.subplot(1, 2, 2)\n",
        "plot_graphs(history, 'loss')"
      ]
    },
    {
      "cell_type": "markdown",
      "metadata": {
        "id": "4aDpt2MmX3fO"
      },
      "source": [
        "### TODO 2: Improve the solution for IMDB sentiment analysis\n",
        "Write code to produce another solution to the movie review problem that outperforms the two solutions provided above, i.e, has a higher test accuracy.\n",
        "\n",
        "You can use a (combination of) different architecture, dropout and/or other regularization strategies, hyperparameter optimizations, masking, pretrained embeddings, or any other acceptable \"trick\" in the deep learning world."
      ]
    },
    {
      "cell_type": "markdown",
      "metadata": {
        "id": "szyTEAOEX3fO"
      },
      "source": [
        "### Summary table\n",
        "(Example, manually generated)\n",
        "\n",
        "You can use the table below to show a summary of the experimental results. **Replace the Test Accuracy values and other contents with your own!**\n",
        "\n",
        "| Method | Test Accuracy | Remarks |\n",
        "| --- | --- | --- |\n",
        "| First model | 0.856 | Baseline |\n",
        "| Second model (LSTM) | 0.851 | Slightly worse than baseline |\n",
        "| *Improved* model / variation of your choice | 0.915 | Best overall |\n"
      ]
    },
    {
      "cell_type": "code",
      "execution_count": null,
      "metadata": {
        "colab": {
          "background_save": true,
          "base_uri": "https://localhost:8080/"
        },
        "id": "kIm5bzvxgDKa",
        "outputId": "a41a3537-3aac-4c84-ea3a-6f4dc2b185a9"
      },
      "outputs": [
        {
          "name": "stdout",
          "output_type": "stream",
          "text": [
            "Downloading data from https://storage.googleapis.com/tensorflow/tf-keras-datasets/imdb.npz\n",
            "17464789/17464789 [==============================] - 0s 0us/step\n",
            "Epoch 1/10\n",
            "625/625 [==============================] - 222s 351ms/step - loss: 0.6159 - accuracy: 0.6473 - val_loss: 0.5125 - val_accuracy: 0.7724\n",
            "Epoch 2/10\n",
            "625/625 [==============================] - 217s 347ms/step - loss: 0.5360 - accuracy: 0.7376 - val_loss: 0.6520 - val_accuracy: 0.5704\n",
            "Epoch 3/10\n",
            "625/625 [==============================] - 225s 360ms/step - loss: 0.5140 - accuracy: 0.7064 - val_loss: 0.3883 - val_accuracy: 0.8426\n",
            "Epoch 4/10\n",
            "625/625 [==============================] - 214s 343ms/step - loss: 0.2593 - accuracy: 0.8939 - val_loss: 0.3065 - val_accuracy: 0.8732\n",
            "Epoch 5/10\n",
            "625/625 [==============================] - 217s 346ms/step - loss: 0.1658 - accuracy: 0.9402 - val_loss: 0.3538 - val_accuracy: 0.8820\n",
            "Epoch 6/10\n",
            "625/625 [==============================] - 217s 347ms/step - loss: 0.1157 - accuracy: 0.9607 - val_loss: 0.3969 - val_accuracy: 0.8744\n",
            "Epoch 7/10\n",
            "625/625 [==============================] - 216s 346ms/step - loss: 0.0800 - accuracy: 0.9758 - val_loss: 0.4419 - val_accuracy: 0.8718\n",
            "Epoch 8/10\n",
            "625/625 [==============================] - 204s 326ms/step - loss: 0.0569 - accuracy: 0.9837 - val_loss: 0.4815 - val_accuracy: 0.8712\n",
            "Epoch 9/10\n",
            "625/625 [==============================] - 203s 325ms/step - loss: 0.0442 - accuracy: 0.9874 - val_loss: 0.5369 - val_accuracy: 0.8724\n",
            "Epoch 10/10\n",
            "625/625 [==============================] - 205s 329ms/step - loss: 0.0350 - accuracy: 0.9901 - val_loss: 0.6099 - val_accuracy: 0.8712\n",
            "782/782 [==============================] - 37s 47ms/step - loss: 0.6883 - accuracy: 0.8530\n",
            "Test accuracy: 0.8530399799346924\n"
          ]
        }
      ],
      "source": [
        "import tensorflow as tf\n",
        "from tensorflow.keras.datasets import imdb\n",
        "from tensorflow.keras.preprocessing.sequence import pad_sequences\n",
        "from tensorflow.keras.models import Sequential\n",
        "from tensorflow.keras.layers import Dense, Embedding, LSTM, Dropout\n",
        "\n",
        "(x_train, y_train), (x_test, y_test) = imdb.load_data(num_words=10000)\n",
        "\n",
        "\n",
        "maxlen = 200\n",
        "x_train = pad_sequences(x_train, padding='post', maxlen=maxlen)\n",
        "x_test = pad_sequences(x_test, padding='post', maxlen=maxlen)\n",
        "\n",
        "\n",
        "model = Sequential()\n",
        "model.add(Embedding(input_dim=10000, output_dim=128, input_length=maxlen))\n",
        "model.add(LSTM(64, dropout=0.2, recurrent_dropout=0.2))\n",
        "model.add(Dense(1, activation='sigmoid'))\n",
        "\n",
        "\n",
        "model.compile(loss='binary_crossentropy', optimizer='adam', metrics=['accuracy'])\n",
        "\n",
        "\n",
        "model.fit(x_train, y_train, batch_size=32, epochs=10, validation_split=0.2)\n",
        "\n",
        "loss, accuracy = model.evaluate(x_test, y_test)\n",
        "\n",
        "print(f'Test accuracy: {accuracy}')\n"
      ]
    },
    {
      "cell_type": "markdown",
      "metadata": {
        "id": "fC1B01BCE7OJ"
      },
      "source": [
        "## Part 3: NLP using Transformers\n",
        "\n",
        "In Part 3 we will look at the Transformer architecture and how it can be used in a specific NLP task, machine translation (from English to Spanish).\n",
        "\n",
        "Please refer to Chapter 11 of [our textbook](https://learning.oreilly.com/library/view/deep-learning-with/9781617296864) for additional information.\n"
      ]
    },
    {
      "cell_type": "markdown",
      "metadata": {
        "id": "ITYmXB88E7Oa"
      },
      "source": [
        "Useful sources and references for Part 3:\n",
        "\n",
        "- https://colab.research.google.com/github/fchollet/deep-learning-with-python-notebooks/blob/master/chapter11_part03_transformer.ipynb\n",
        "- https://colab.research.google.com/github/fchollet/deep-learning-with-python-notebooks/blob/master/chapter11_part04_sequence-to-sequence-learning.ipynb\n"
      ]
    },
    {
      "cell_type": "markdown",
      "metadata": {
        "id": "6IwBooqWFQGb"
      },
      "source": [
        "### Setup"
      ]
    },
    {
      "cell_type": "code",
      "execution_count": null,
      "metadata": {
        "colab": {
          "base_uri": "https://localhost:8080/"
        },
        "id": "-uEVqAmHFQGb",
        "outputId": "39915ccd-98b0-4da6-db27-8ff1fb34e1e8"
      },
      "outputs": [
        {
          "name": "stdout",
          "output_type": "stream",
          "text": [
            "--2023-04-15 03:04:03--  http://storage.googleapis.com/download.tensorflow.org/data/spa-eng.zip\n",
            "Resolving storage.googleapis.com (storage.googleapis.com)... 74.125.20.128, 108.177.98.128, 74.125.197.128, ...\n",
            "Connecting to storage.googleapis.com (storage.googleapis.com)|74.125.20.128|:80... connected.\n",
            "HTTP request sent, awaiting response... 200 OK\n",
            "Length: 2638744 (2.5M) [application/zip]\n",
            "Saving to: ‘spa-eng.zip’\n",
            "\n",
            "\rspa-eng.zip           0%[                    ]       0  --.-KB/s               \rspa-eng.zip         100%[===================>]   2.52M  --.-KB/s    in 0.01s   \n",
            "\n",
            "2023-04-15 03:04:03 (250 MB/s) - ‘spa-eng.zip’ saved [2638744/2638744]\n",
            "\n"
          ]
        }
      ],
      "source": [
        "!wget http://storage.googleapis.com/download.tensorflow.org/data/spa-eng.zip\n",
        "!unzip -q spa-eng.zip"
      ]
    },
    {
      "cell_type": "code",
      "execution_count": null,
      "metadata": {
        "id": "eOLIZ9ZtFQGc"
      },
      "outputs": [],
      "source": [
        "text_file = \"spa-eng/spa.txt\"\n",
        "with open(text_file) as f:\n",
        "    lines = f.read().split(\"\\n\")[:-1]\n",
        "text_pairs = []\n",
        "for line in lines:\n",
        "    english, spanish = line.split(\"\\t\")\n",
        "    spanish = \"[start] \" + spanish + \" [end]\"\n",
        "    text_pairs.append((english, spanish))"
      ]
    },
    {
      "cell_type": "code",
      "execution_count": null,
      "metadata": {
        "colab": {
          "base_uri": "https://localhost:8080/"
        },
        "id": "LvcrsLQhFQGc",
        "outputId": "c2e8fef1-fbc3-41ac-d05c-f1e931e64d53"
      },
      "outputs": [
        {
          "name": "stdout",
          "output_type": "stream",
          "text": [
            "(\"We're the only people here.\", '[start] Somos las únicas personas aquí. [end]')\n"
          ]
        }
      ],
      "source": [
        "import random\n",
        "print(random.choice(text_pairs))"
      ]
    },
    {
      "cell_type": "code",
      "execution_count": null,
      "metadata": {
        "id": "sgx4dI1OFQGc"
      },
      "outputs": [],
      "source": [
        "import random\n",
        "random.shuffle(text_pairs)\n",
        "num_val_samples = int(0.15 * len(text_pairs))\n",
        "num_train_samples = len(text_pairs) - 2 * num_val_samples\n",
        "train_pairs = text_pairs[:num_train_samples]\n",
        "val_pairs = text_pairs[num_train_samples:num_train_samples + num_val_samples]\n",
        "test_pairs = text_pairs[num_train_samples + num_val_samples:]"
      ]
    },
    {
      "cell_type": "markdown",
      "metadata": {
        "id": "p3a4eNBeFQGd"
      },
      "source": [
        "**Vectorizing the English and Spanish text pairs**"
      ]
    },
    {
      "cell_type": "code",
      "execution_count": null,
      "metadata": {
        "id": "5eQ6EdPZFQGd"
      },
      "outputs": [],
      "source": [
        "import tensorflow as tf\n",
        "import string\n",
        "import re\n",
        "\n",
        "from tensorflow import keras\n",
        "from tensorflow.keras import layers\n",
        "\n",
        "strip_chars = string.punctuation + \"¿\"\n",
        "strip_chars = strip_chars.replace(\"[\", \"\")\n",
        "strip_chars = strip_chars.replace(\"]\", \"\")\n",
        "\n",
        "def custom_standardization(input_string):\n",
        "    lowercase = tf.strings.lower(input_string)\n",
        "    return tf.strings.regex_replace(\n",
        "        lowercase, f\"[{re.escape(strip_chars)}]\", \"\")\n",
        "\n",
        "vocab_size = 15000\n",
        "sequence_length = 20\n",
        "\n",
        "source_vectorization = layers.TextVectorization(\n",
        "    max_tokens=vocab_size,\n",
        "    output_mode=\"int\",\n",
        "    output_sequence_length=sequence_length,\n",
        ")\n",
        "target_vectorization = layers.TextVectorization(\n",
        "    max_tokens=vocab_size,\n",
        "    output_mode=\"int\",\n",
        "    output_sequence_length=sequence_length + 1,\n",
        "    standardize=custom_standardization,\n",
        ")\n",
        "train_english_texts = [pair[0] for pair in train_pairs]\n",
        "train_spanish_texts = [pair[1] for pair in train_pairs]\n",
        "source_vectorization.adapt(train_english_texts)\n",
        "target_vectorization.adapt(train_spanish_texts)"
      ]
    },
    {
      "cell_type": "markdown",
      "metadata": {
        "id": "I8FSpt8VFQGe"
      },
      "source": [
        "**Preparing datasets for the translation task**"
      ]
    },
    {
      "cell_type": "code",
      "execution_count": null,
      "metadata": {
        "id": "LUs8N_zjFQGe"
      },
      "outputs": [],
      "source": [
        "batch_size = 64\n",
        "\n",
        "def format_dataset(eng, spa):\n",
        "    eng = source_vectorization(eng)\n",
        "    spa = target_vectorization(spa)\n",
        "    return ({\n",
        "        \"english\": eng,\n",
        "        \"spanish\": spa[:, :-1],\n",
        "    }, spa[:, 1:])\n",
        "\n",
        "def make_dataset(pairs):\n",
        "    eng_texts, spa_texts = zip(*pairs)\n",
        "    eng_texts = list(eng_texts)\n",
        "    spa_texts = list(spa_texts)\n",
        "    dataset = tf.data.Dataset.from_tensor_slices((eng_texts, spa_texts))\n",
        "    dataset = dataset.batch(batch_size)\n",
        "    dataset = dataset.map(format_dataset, num_parallel_calls=4)\n",
        "    return dataset.shuffle(2048).prefetch(16).cache()\n",
        "\n",
        "train_ds = make_dataset(train_pairs)\n",
        "val_ds = make_dataset(val_pairs)"
      ]
    },
    {
      "cell_type": "code",
      "execution_count": null,
      "metadata": {
        "colab": {
          "base_uri": "https://localhost:8080/"
        },
        "id": "caWA_b2BFQGe",
        "outputId": "2a8d68e3-2ca1-40d6-8184-0d4cbb96b512"
      },
      "outputs": [
        {
          "name": "stdout",
          "output_type": "stream",
          "text": [
            "inputs['english'].shape: (64, 20)\n",
            "inputs['spanish'].shape: (64, 20)\n",
            "targets.shape: (64, 20)\n"
          ]
        }
      ],
      "source": [
        "for inputs, targets in train_ds.take(1):\n",
        "    print(f\"inputs['english'].shape: {inputs['english'].shape}\")\n",
        "    print(f\"inputs['spanish'].shape: {inputs['spanish'].shape}\")\n",
        "    print(f\"targets.shape: {targets.shape}\")"
      ]
    },
    {
      "cell_type": "markdown",
      "metadata": {
        "id": "BL1QeLMLEznr"
      },
      "source": [
        "### The Transformer encoder"
      ]
    },
    {
      "cell_type": "code",
      "execution_count": null,
      "metadata": {
        "id": "CTQRyZTKEznt"
      },
      "outputs": [],
      "source": [
        "import tensorflow as tf\n",
        "from tensorflow import keras\n",
        "from tensorflow.keras import layers\n",
        "\n",
        "class TransformerEncoder(layers.Layer):\n",
        "    def __init__(self, embed_dim, dense_dim, num_heads, **kwargs):\n",
        "        super().__init__(**kwargs)\n",
        "        self.embed_dim = embed_dim\n",
        "        self.dense_dim = dense_dim\n",
        "        self.num_heads = num_heads\n",
        "        self.attention = layers.MultiHeadAttention(\n",
        "            num_heads=num_heads, key_dim=embed_dim)\n",
        "        self.dense_proj = keras.Sequential(\n",
        "            [layers.Dense(dense_dim, activation=\"relu\"),\n",
        "             layers.Dense(embed_dim),]\n",
        "        )\n",
        "        self.layernorm_1 = layers.LayerNormalization()\n",
        "        self.layernorm_2 = layers.LayerNormalization()\n",
        "\n",
        "    def call(self, inputs, mask=None):\n",
        "        if mask is not None:\n",
        "            mask = mask[:, tf.newaxis, :]\n",
        "        attention_output = self.attention(\n",
        "            inputs, inputs, attention_mask=mask)\n",
        "        proj_input = self.layernorm_1(inputs + attention_output)\n",
        "        proj_output = self.dense_proj(proj_input)\n",
        "        return self.layernorm_2(proj_input + proj_output)\n",
        "\n",
        "    def get_config(self):\n",
        "        config = super().get_config()\n",
        "        config.update({\n",
        "            \"embed_dim\": self.embed_dim,\n",
        "            \"num_heads\": self.num_heads,\n",
        "            \"dense_dim\": self.dense_dim,\n",
        "        })\n",
        "        return config"
      ]
    },
    {
      "cell_type": "markdown",
      "metadata": {
        "id": "xIPjMfSSFQGg"
      },
      "source": [
        "### The Transformer decoder"
      ]
    },
    {
      "cell_type": "code",
      "execution_count": null,
      "metadata": {
        "id": "UvZV_l5QFQGg"
      },
      "outputs": [],
      "source": [
        "class TransformerDecoder(layers.Layer):\n",
        "    def __init__(self, embed_dim, dense_dim, num_heads, **kwargs):\n",
        "        super().__init__(**kwargs)\n",
        "        self.embed_dim = embed_dim\n",
        "        self.dense_dim = dense_dim\n",
        "        self.num_heads = num_heads\n",
        "        self.attention_1 = layers.MultiHeadAttention(\n",
        "            num_heads=num_heads, key_dim=embed_dim)\n",
        "        self.attention_2 = layers.MultiHeadAttention(\n",
        "            num_heads=num_heads, key_dim=embed_dim)\n",
        "        self.dense_proj = keras.Sequential(\n",
        "            [layers.Dense(dense_dim, activation=\"relu\"),\n",
        "             layers.Dense(embed_dim),]\n",
        "        )\n",
        "        self.layernorm_1 = layers.LayerNormalization()\n",
        "        self.layernorm_2 = layers.LayerNormalization()\n",
        "        self.layernorm_3 = layers.LayerNormalization()\n",
        "        self.supports_masking = True\n",
        "\n",
        "    def get_config(self):\n",
        "        config = super().get_config()\n",
        "        config.update({\n",
        "            \"embed_dim\": self.embed_dim,\n",
        "            \"num_heads\": self.num_heads,\n",
        "            \"dense_dim\": self.dense_dim,\n",
        "        })\n",
        "        return config\n",
        "\n",
        "    def get_causal_attention_mask(self, inputs):\n",
        "        input_shape = tf.shape(inputs)\n",
        "        batch_size, sequence_length = input_shape[0], input_shape[1]\n",
        "        i = tf.range(sequence_length)[:, tf.newaxis]\n",
        "        j = tf.range(sequence_length)\n",
        "        mask = tf.cast(i >= j, dtype=\"int32\")\n",
        "        mask = tf.reshape(mask, (1, input_shape[1], input_shape[1]))\n",
        "        mult = tf.concat(\n",
        "            [tf.expand_dims(batch_size, -1),\n",
        "             tf.constant([1, 1], dtype=tf.int32)], axis=0)\n",
        "        return tf.tile(mask, mult)\n",
        "\n",
        "    def call(self, inputs, encoder_outputs, mask=None):\n",
        "        causal_mask = self.get_causal_attention_mask(inputs)\n",
        "        if mask is not None:\n",
        "            padding_mask = tf.cast(\n",
        "                mask[:, tf.newaxis, :], dtype=\"int32\")\n",
        "            padding_mask = tf.minimum(padding_mask, causal_mask)\n",
        "        attention_output_1 = self.attention_1(\n",
        "            query=inputs,\n",
        "            value=inputs,\n",
        "            key=inputs,\n",
        "            attention_mask=causal_mask)\n",
        "        attention_output_1 = self.layernorm_1(inputs + attention_output_1)\n",
        "        attention_output_2 = self.attention_2(\n",
        "            query=attention_output_1,\n",
        "            value=encoder_outputs,\n",
        "            key=encoder_outputs,\n",
        "            attention_mask=padding_mask,\n",
        "        )\n",
        "        attention_output_2 = self.layernorm_2(\n",
        "            attention_output_1 + attention_output_2)\n",
        "        proj_output = self.dense_proj(attention_output_2)\n",
        "        return self.layernorm_3(attention_output_2 + proj_output)"
      ]
    },
    {
      "cell_type": "markdown",
      "metadata": {
        "id": "YnebEA1XFQGg"
      },
      "source": [
        "### Putting it all together: A Transformer for machine translation"
      ]
    },
    {
      "cell_type": "markdown",
      "metadata": {
        "id": "PkPhTo11FQGg"
      },
      "source": [
        "**PositionalEmbedding layer**"
      ]
    },
    {
      "cell_type": "code",
      "execution_count": null,
      "metadata": {
        "id": "farM4iYXFQGg"
      },
      "outputs": [],
      "source": [
        "class PositionalEmbedding(layers.Layer):\n",
        "    def __init__(self, sequence_length, input_dim, output_dim, **kwargs):\n",
        "        super().__init__(**kwargs)\n",
        "        self.token_embeddings = layers.Embedding(\n",
        "            input_dim=input_dim, output_dim=output_dim)\n",
        "        self.position_embeddings = layers.Embedding(\n",
        "            input_dim=sequence_length, output_dim=output_dim)\n",
        "        self.sequence_length = sequence_length\n",
        "        self.input_dim = input_dim\n",
        "        self.output_dim = output_dim\n",
        "\n",
        "    def call(self, inputs):\n",
        "        length = tf.shape(inputs)[-1]\n",
        "        positions = tf.range(start=0, limit=length, delta=1)\n",
        "        embedded_tokens = self.token_embeddings(inputs)\n",
        "        embedded_positions = self.position_embeddings(positions)\n",
        "        return embedded_tokens + embedded_positions\n",
        "\n",
        "    def compute_mask(self, inputs, mask=None):\n",
        "        return tf.math.not_equal(inputs, 0)\n",
        "\n",
        "    def get_config(self):\n",
        "        config = super(PositionalEmbedding, self).get_config()\n",
        "        config.update({\n",
        "            \"output_dim\": self.output_dim,\n",
        "            \"sequence_length\": self.sequence_length,\n",
        "            \"input_dim\": self.input_dim,\n",
        "        })\n",
        "        return config"
      ]
    },
    {
      "cell_type": "markdown",
      "metadata": {
        "id": "yvRcD-XAFQGh"
      },
      "source": [
        "**End-to-end Transformer**"
      ]
    },
    {
      "cell_type": "code",
      "execution_count": null,
      "metadata": {
        "id": "JaZQjjcYFQGh"
      },
      "outputs": [],
      "source": [
        "embed_dim = 256\n",
        "dense_dim = 2048\n",
        "num_heads = 8\n",
        "\n",
        "encoder_inputs = keras.Input(shape=(None,), dtype=\"int64\", name=\"english\")\n",
        "x = PositionalEmbedding(sequence_length, vocab_size, embed_dim)(encoder_inputs)\n",
        "encoder_outputs = TransformerEncoder(embed_dim, dense_dim, num_heads)(x)\n",
        "\n",
        "decoder_inputs = keras.Input(shape=(None,), dtype=\"int64\", name=\"spanish\")\n",
        "x = PositionalEmbedding(sequence_length, vocab_size, embed_dim)(decoder_inputs)\n",
        "x = TransformerDecoder(embed_dim, dense_dim, num_heads)(x, encoder_outputs)\n",
        "x = layers.Dropout(0.5)(x)\n",
        "decoder_outputs = layers.Dense(vocab_size, activation=\"softmax\")(x)\n",
        "transformer = keras.Model([encoder_inputs, decoder_inputs], decoder_outputs)"
      ]
    },
    {
      "cell_type": "markdown",
      "metadata": {
        "id": "trkoQ4TVFQGh"
      },
      "source": [
        "**Training the sequence-to-sequence Transformer**"
      ]
    },
    {
      "cell_type": "code",
      "execution_count": null,
      "metadata": {
        "id": "F_uYlqS79EKn"
      },
      "outputs": [],
      "source": [
        "transformer.compile(\n",
        "    optimizer=\"rmsprop\",\n",
        "    loss=\"sparse_categorical_crossentropy\",\n",
        "    metrics=[\"accuracy\"])\n",
        "transformer.fit(train_ds, epochs=10, validation_data=val_ds)"
      ]
    },
    {
      "cell_type": "markdown",
      "metadata": {
        "id": "UNa1godRFQGh"
      },
      "source": [
        "**Translating new sentences with our Transformer model**"
      ]
    },
    {
      "cell_type": "code",
      "execution_count": null,
      "metadata": {
        "colab": {
          "base_uri": "https://localhost:8080/"
        },
        "id": "9gAvOuwtFQGh",
        "outputId": "bbec17c0-eff4-446b-cd49-b70652b53694"
      },
      "outputs": [
        {
          "name": "stdout",
          "output_type": "stream",
          "text": [
            "-\n",
            "I wish I knew where he was!\n",
            "[start] me gusta que me lo que él [end]\n",
            "-\n",
            "He didn't really go to the church.\n",
            "[start] Él no me dijo que la verdad [end]\n",
            "-\n",
            "He wants to be more independent.\n",
            "[start] Él quiere ir a la verdad [end]\n",
            "-\n",
            "Where are my books?\n",
            "[start] dónde estás mi padre [end]\n",
            "-\n",
            "We had a wonderful holiday in Sweden.\n",
            "[start] tenemos un perro [end]\n",
            "-\n",
            "I've dealt with this store for years.\n",
            "[start] he estado nada [end]\n",
            "-\n",
            "Stay positive.\n",
            "[start] eso es [end]\n",
            "-\n",
            "Tom can walk only if he has his cane.\n",
            "[start] tom puede que tom si se ha estado [end]\n",
            "-\n",
            "Tom can walk to his office in thirty minutes or less.\n",
            "[start] tom se dijo que su vida en su vida [end]\n",
            "-\n",
            "She didn't run fast enough to catch the bus.\n",
            "[start] ella no se ha estado bien [end]\n",
            "-\n",
            "Tom sang softly.\n",
            "[start] tom se [UNK] [end]\n",
            "-\n",
            "Have you known her since 1990?\n",
            "[start] has estado [UNK] su vida [end]\n",
            "-\n",
            "My father does not go to Tokyo today.\n",
            "[start] mi padre no se le gusta la verdad [end]\n",
            "-\n",
            "You must meet with her.\n",
            "[start] estás [UNK] [end]\n",
            "-\n",
            "The problem is that it's too far away.\n",
            "[start] la verdad es eso es muy bien [end]\n",
            "-\n",
            "We'll go back to Boston next week.\n",
            "[start] te gustaría ir a mary [end]\n",
            "-\n",
            "It is possible that I forgot my keys.\n",
            "[start] es muy [UNK] eso que me gusta la verdad [end]\n",
            "-\n",
            "He was standing behind the door.\n",
            "[start] Él fue la verdad [end]\n",
            "-\n",
            "Are you here?\n",
            "[start] estás aquí [end]\n",
            "-\n",
            "Any amount of money will do.\n",
            "[start] todos los niños [UNK] [end]\n"
          ]
        }
      ],
      "source": [
        "import numpy as np\n",
        "spa_vocab = target_vectorization.get_vocabulary()\n",
        "spa_index_lookup = dict(zip(range(len(spa_vocab)), spa_vocab))\n",
        "max_decoded_sentence_length = 20\n",
        "\n",
        "def decode_sequence(input_sentence):\n",
        "    tokenized_input_sentence = source_vectorization([input_sentence])\n",
        "    decoded_sentence = \"[start]\"\n",
        "    for i in range(max_decoded_sentence_length):\n",
        "        tokenized_target_sentence = target_vectorization(\n",
        "            [decoded_sentence])[:, :-1]\n",
        "        predictions = transformer(\n",
        "            [tokenized_input_sentence, tokenized_target_sentence])\n",
        "        sampled_token_index = np.argmax(predictions[0, i, :])\n",
        "        sampled_token = spa_index_lookup[sampled_token_index]\n",
        "        decoded_sentence += \" \" + sampled_token\n",
        "        if sampled_token == \"[end]\":\n",
        "            break\n",
        "    return decoded_sentence\n",
        "\n",
        "test_eng_texts = [pair[0] for pair in test_pairs]\n",
        "for _ in range(20):\n",
        "    input_sentence = random.choice(test_eng_texts)\n",
        "    print(\"-\")\n",
        "    print(input_sentence)\n",
        "    print(decode_sequence(input_sentence))"
      ]
    },
    {
      "cell_type": "markdown",
      "metadata": {
        "id": "FsPk1WFP7l2o"
      },
      "source": [
        "## Conclusions\n",
        "Part 1: Temperature forecasting using RNNs\n",
        "Working on a project to forecast temperature using RNNs taught me the value of feature engineering and data pretreatment. Since there are several factors in the data, it is crucial to identify the ones that are essential for temperature forecasting and to normalize the data so that each variable contributes equally to the predictions made by the model. The creation of additional variables, such as lagged variables or rolling averages, that might be helpful for temperature forecasting is another capability of feature engineering.\n",
        "\n",
        "The significance of hyperparameter adjustment is a further lesson. The performance of an RNN may be greatly influenced by a variety of hyperparameters, including the number of layers, the number of units in each layer, and the learning rate. The most effective hyperparameters for the job may be found by experimenting with various settings and assessing the model's performance on a validation set.\n",
        "\n",
        "Finally, the trade-off between model complexity and interpretability must be taken into account. Given the complexity of RNNs, it might be difficult to comprehend how the model predicts outcomes. To make sure that the model's predictions are helpful and intelligible for the end users, it is crucial to strike a balance between the complexity of the model and the interpretability of the findings.\n",
        "\n",
        "\n",
        "Part 2: Sentiment analysis using LSTMs\n",
        "Working with Long Short-Term Memory (LSTM) networks on a sentiment analysis job taught us the value of handling unbalanced input. The IMDB movie review dataset may include a disproportionate number of favorable or negative evaluations, creating an unbalanced dataset. Datasets that are unbalanced can provide biased models that underperform for the minority class.\n",
        "\n",
        "One solution to this problem is to utilize methods like oversampling or undersampling to balance the dataset. To give the minority class additional weight during training, another strategy is to utilize weighted loss functions or class weights. To make sure the model is successful in predicting both positive and negative ratings, it's critical to assess the model's performance on both the majority and minority classes.\n",
        "\n",
        "The significance of employing pre-trained embeddings is a further lesson gained. Pre-trained embeddings, like GloVe or Word2Vec, are valuable for natural language processing applications like sentiment analysis since they can capture the semantic meaning of words and were trained on huge corpora of text. Compared to training, using pre-trained embeddings can save time and enhance model performance.\n",
        "\n",
        "Part 3: NLP using Transformers\n",
        "Transformer architecture on a Natural Language Processing (NLP) assignment taught us the value of attention methods. Transformers are able to better grasp long-range dependencies and perform better on NLP tasks like machine translation because they employ self-attention to balance the significance of various input sequence components when formulating predictions.\n",
        "\n",
        "The value of tokenization and pre-processing is another thing that was discovered. Tokenization is the process of dividing a text into smaller pieces, such words or subwords, so that they may be supplied as input into the Transformer. Pre-processing involves operations like punctuation removal, text conversion to lowercase, and managing special characters, which can enhance the Transformer's performance."
      ]
    }
  ],
  "metadata": {
    "accelerator": "GPU",
    "colab": {
      "provenance": [],
      "toc_visible": true
    },
    "kernelspec": {
      "display_name": "Python 3",
      "name": "python3"
    }
  },
  "nbformat": 4,
  "nbformat_minor": 0
}